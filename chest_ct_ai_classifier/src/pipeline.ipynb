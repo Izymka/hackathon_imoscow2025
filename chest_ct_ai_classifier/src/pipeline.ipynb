{
 "cells": [
  {
   "cell_type": "markdown",
   "metadata": {},
   "source": [
    "# 1. В приложение загружают зип архив"
   ]
  },
  {
   "cell_type": "markdown",
   "metadata": {},
   "source": [
    "# 2. Разархивируем архив"
   ]
  },
  {
   "cell_type": "markdown",
   "metadata": {},
   "source": [
    "Далее я буду тестировать на эталонных данных"
   ]
  },
  {
   "cell_type": "markdown",
   "metadata": {},
   "source": [
    "# 3. Переводим изображение в тензор "
   ]
  },
  {
   "cell_type": "markdown",
   "metadata": {},
   "source": [
    "Указываем путь на  папку в которой лежат изображения. Внутрь не заходим. "
   ]
  },
  {
   "cell_type": "markdown",
   "metadata": {},
   "source": [
    "Очень осторожно нужно с этим скриптом. Очень много зависимостей и логики обрабоки, от которой зависит успех. \n",
    "\n",
    "Я проверила, все 3 формата обрабатывает\n",
    "Много логов, хотелось бы в том числе во время его долгой работы что-то выводить наблюдателю"
   ]
  },
  {
   "cell_type": "markdown",
   "metadata": {},
   "source": [
    "В настоящий момент скрипт очень долго отрабатывает, возможно потому что данные на удаленном компе (3 минуты) если запускать одно окно за другим, то первое 3 минуты, второе 40 секунд. Возможно и в скрипте дело"
   ]
  },
  {
   "cell_type": "code",
   "execution_count": 9,
   "metadata": {},
   "outputs": [
    {
     "name": "stdout",
     "output_type": "stream",
     "text": [
      "2025-09-24 20:09:32,377 - INFO - Found 1 patient directories\n",
      "2025-09-24 20:09:32,377 - INFO - Target tensor shape: (1, 1, 128, 128, 128)\n",
      "2025-09-24 20:09:32,377 - INFO - Target spacing: (1.0, 1.0, 1.0) mm\n",
      "2025-09-24 20:09:32,378 - INFO - Starting processing...\n",
      "Processing patients: 100%|███████████████████████| 1/1 [03:08<00:00, 188.06s/it]\n",
      "2025-09-24 20:12:40,507 - INFO - \n",
      "============================================================\n",
      "2025-09-24 20:12:40,529 - INFO - PROCESSING COMPLETED\n",
      "2025-09-24 20:12:40,530 - INFO - Total patients: 1\n",
      "2025-09-24 20:12:40,530 - INFO - Successfully processed: 1\n",
      "2025-09-24 20:12:40,530 - INFO - Failed: 0\n",
      "2025-09-24 20:12:40,530 - INFO - Success rate: 100.0%\n",
      "2025-09-24 20:12:40,530 - INFO - Output directory: data/test_ideal\n",
      "2025-09-24 20:12:40,530 - INFO - Report saved to: data/test_ideal/processing_report.json\n",
      "2025-09-24 20:12:40,530 - INFO - ============================================================\n",
      "2025-09-24 20:12:40,530 - INFO - Done! ✅\n"
     ]
    }
   ],
   "source": [
    "!python scripts/prepare_ct_tensors.py --input \"/Volumes/DS/DataSets/hackathon2025/Датасет/norma_anon/\" \\\n",
    " --output \"data/test_ideal\""
   ]
  },
  {
   "cell_type": "markdown",
   "metadata": {},
   "source": [
    "Для модели с 4 каналами"
   ]
  },
  {
   "cell_type": "code",
   "execution_count": null,
   "metadata": {},
   "outputs": [
    {
     "name": "stdout",
     "output_type": "stream",
     "text": [
      "2025-09-24 20:06:57,525 - INFO - Found 1 patient directories\n",
      "2025-09-24 20:06:57,525 - INFO - Target tensor shape: (1, 1, 128, 128, 128)\n",
      "2025-09-24 20:06:57,525 - INFO - Target spacing: (1.0, 1.0, 1.0) mm\n",
      "2025-09-24 20:06:57,525 - INFO - Starting processing...\n",
      "Processing patients: 100%|███████████████████████| 1/1 [02:29<00:00, 149.01s/it]\n",
      "2025-09-24 20:09:26,547 - INFO - \n",
      "============================================================\n",
      "2025-09-24 20:09:26,548 - INFO - PROCESSING COMPLETED\n",
      "2025-09-24 20:09:26,548 - INFO - Total patients: 1\n",
      "2025-09-24 20:09:26,548 - INFO - Successfully processed: 1\n",
      "2025-09-24 20:09:26,548 - INFO - Failed: 0\n",
      "2025-09-24 20:09:26,548 - INFO - Success rate: 100.0%\n",
      "2025-09-24 20:09:26,548 - INFO - Output directory: data/test_ideal\n",
      "2025-09-24 20:09:26,548 - INFO - Report saved to: data/test_ideal/processing_report.json\n",
      "2025-09-24 20:09:26,548 - INFO - ============================================================\n",
      "2025-09-24 20:09:26,548 - INFO - Done! ✅\n"
     ]
    }
   ],
   "source": [
    "!python scripts/prepare_ct_tensors.py --input \"/Volumes/DS/DataSets/hackathon2025/Датасет/pneumonia_anon\" \\\n",
    " --output \"data/test_ideal\""
   ]
  },
  {
   "cell_type": "code",
   "execution_count": 7,
   "metadata": {},
   "outputs": [
    {
     "name": "stdout",
     "output_type": "stream",
     "text": [
      "2025-09-24 20:06:23,729 - INFO - Found 1 patient directories\n",
      "2025-09-24 20:06:23,729 - INFO - Target tensor shape: (1, 1, 128, 128, 128)\n",
      "2025-09-24 20:06:23,729 - INFO - Target spacing: (1.0, 1.0, 1.0) mm\n",
      "2025-09-24 20:06:23,729 - INFO - Starting processing...\n",
      "Processing patients:   0%|                                | 0/1 [00:00<?, ?it/s]2025-09-24 20:06:47,494 - INFO - Loaded pneumotorax_anon: torch.Size([1, 476, 512, 512])\n",
      "2025-09-24 20:06:52,017 - INFO - ✓ pneumotorax_anon: range=[-1.000, 1.000], mean=-0.595, std=0.491\n",
      "Processing patients: 100%|████████████████████████| 1/1 [00:28<00:00, 28.34s/it]\n",
      "2025-09-24 20:06:52,080 - INFO - \n",
      "============================================================\n",
      "2025-09-24 20:06:52,080 - INFO - PROCESSING COMPLETED\n",
      "2025-09-24 20:06:52,080 - INFO - Total patients: 1\n",
      "2025-09-24 20:06:52,080 - INFO - Successfully processed: 1\n",
      "2025-09-24 20:06:52,080 - INFO - Failed: 0\n",
      "2025-09-24 20:06:52,080 - INFO - Success rate: 100.0%\n",
      "2025-09-24 20:06:52,081 - INFO - Output directory: data/test_ideal\n",
      "2025-09-24 20:06:52,081 - INFO - Report saved to: data/test_ideal/processing_report.json\n",
      "2025-09-24 20:06:52,081 - INFO - ============================================================\n",
      "2025-09-24 20:06:52,081 - INFO - Done! ✅\n"
     ]
    }
   ],
   "source": [
    "!python scripts/prepare_ct_tensors.py --input \"/Volumes/DS/DataSets/hackathon2025/Датасет/pneumotorax_anon\" \\\n",
    " --output \"data/test_ideal\" --verbose"
   ]
  },
  {
   "cell_type": "markdown",
   "metadata": {},
   "source": [
    "На выходе получаем .pt на нем уже можем делать предикт"
   ]
  },
  {
   "cell_type": "markdown",
   "metadata": {},
   "source": [
    "3.1 Для модели с 4 каналами"
   ]
  },
  {
   "cell_type": "code",
   "execution_count": null,
   "metadata": {},
   "outputs": [],
   "source": [
    "!python scripts/prepare_4chanel_nii_tensors.py --input \"/Volumes/DS/DataSets/hackathon2025/Датасет/pneumonia_anon\" --output \"data/test_ideal\""
   ]
  },
  {
   "cell_type": "markdown",
   "metadata": {},
   "source": [
    "# 4. Предсказание на модели"
   ]
  },
  {
   "cell_type": "markdown",
   "metadata": {},
   "source": [
    "Вот тут вынесла функцию чтения тензора. Важное замечание. По умолчанию всегда стоит weights_only=True, наши тензоры с метаданными. И при попытке загрузки пайторч отбраковывает, типа не безопасно. Я тут установила фолс, чтобы у меня работало. Но большой вопрос, как это делать так, чтобы было безопасно. Вот еще такой обход мне предлагали Сначала пытается загрузить файл с weights_only=True, но перед этим добавляет MetaTensor в список безопасных глобалов с помощью torch.serialization.add_safe_globals([MetaTensor])\n",
    "\n"
   ]
  },
  {
   "cell_type": "code",
   "execution_count": null,
   "metadata": {},
   "outputs": [],
   "source": [
    "!python inference_3d_resnet.py \\\n",
    "    --checkpoint /path/to/your/checkpoint.pth \\\n",
    "    --input /path/to/prepared/tensors/ \\\n",
    "    --output /path/to/output/results/ \\\n",
    "    --model-depth 18 \\\n",
    "    --num-classes 2 \\\n",
    "    --batch-size 1 \\\n",
    "    --device cuda"
   ]
  },
  {
   "cell_type": "code",
   "execution_count": null,
   "metadata": {
    "jupyter": {
     "is_executing": true
    }
   },
   "outputs": [],
   "source": [
    "# Читаем тензор\n",
    "import torch\n",
    "from pathlib import Path\n",
    "def read_tensor(path: Path) -> torch.Tensor:\n",
    "    \"\"\"Чтение тензора из PyTorch файла (.pt, .pth)\"\"\"\n",
    "    try:\n",
    "        tensor = torch.load(path, weights_only=False, map_location='cpu')\n",
    "        \n",
    "        # Если это словарь с 'state_dict' или 'tensor', извлекаем тензор\n",
    "        if isinstance(tensor, dict):\n",
    "            if 'tensor' in tensor:\n",
    "                tensor = tensor['tensor']\n",
    "            elif 'state_dict' in tensor:\n",
    "                # Это чекпоинт модели, возвращаем как есть или извлекаем тензор\n",
    "                raise ValueError(\"Файл содержит state_dict модели, а не тензор. Используйте load_state_dict для модели.\")\n",
    "            else:\n",
    "                # Если словарь содержит тензор, извлекаем первый\n",
    "                for key, value in tensor.items():\n",
    "                    if isinstance(value, torch.Tensor):\n",
    "                        return value\n",
    "                raise ValueError(\"Не найден тензор в словаре\")\n",
    "        \n",
    "        if not isinstance(tensor, torch.Tensor):\n",
    "            raise ValueError(f\"Файл не содержит тензор, а содержит: {type(tensor)}\")\n",
    "        \n",
    "        return tensor\n",
    "    \n",
    "    except Exception as e:\n",
    "        raise RuntimeError(f\"Ошибка при чтении PyTorch файла: {e}\")"
   ]
  },
  {
   "cell_type": "code",
   "execution_count": 4,
   "metadata": {},
   "outputs": [],
   "source": [
    "norma = read_tensor(\"data/test_ideal/norma_anon.pt\")"
   ]
  },
  {
   "cell_type": "code",
   "execution_count": 19,
   "metadata": {},
   "outputs": [
    {
     "data": {
      "text/plain": [
       "torch.Size([1, 1, 128, 128, 128])"
      ]
     },
     "execution_count": 19,
     "metadata": {},
     "output_type": "execute_result"
    }
   ],
   "source": [
    "norma.shape"
   ]
  },
  {
   "cell_type": "code",
   "execution_count": 5,
   "metadata": {},
   "outputs": [],
   "source": [
    "pneumonia = read_tensor(\"data/test_ideal/pneumonia_anon.pt\")"
   ]
  },
  {
   "cell_type": "code",
   "execution_count": 6,
   "metadata": {},
   "outputs": [],
   "source": [
    "pneumotorax = read_tensor(\"data/test_ideal/pneumotorax_anon.pt\")"
   ]
  },
  {
   "cell_type": "code",
   "execution_count": 1,
   "metadata": {},
   "outputs": [
    {
     "name": "stdout",
     "output_type": "stream",
     "text": [
      "/Users/irinamistulova/PycharmProjects/hackathon_imoscow2025/chest_ct_ai_classifier/src\n"
     ]
    }
   ],
   "source": [
    "!pwd"
   ]
  },
  {
   "cell_type": "code",
   "execution_count": 7,
   "metadata": {},
   "outputs": [],
   "source": [
    "from monai.data import MetaTensor \n",
    "from utils.dicom_parser import parse_dicom\n"
   ]
  },
  {
   "cell_type": "code",
   "execution_count": 16,
   "metadata": {},
   "outputs": [
    {
     "name": "stdout",
     "output_type": "stream",
     "text": [
      "🖥️  Используем устройство: cpu\n",
      "📂 Загрузка весов из: model/outputs/weights/best_weights.pth\n",
      "✅ Модель загружена и готова для предсказаний!\n",
      "Диагноз: Здоров\n",
      "Уверенность: 100.00%\n"
     ]
    }
   ],
   "source": [
    "# Простое использование\n",
    "from model.inference import MedicalModelInference\n",
    "\n",
    "# Инициализация\n",
    "inference = MedicalModelInference(\"model/outputs/weights/best_weights.pth\")\n",
    "\n",
    "\n",
    "result = inference.predict(norma)\n",
    "\n",
    "print(f\"Диагноз: {result['predicted_class_name']}\")\n",
    "print(f\"Уверенность: {result['confidence']:.2%}\")"
   ]
  },
  {
   "cell_type": "code",
   "execution_count": 15,
   "metadata": {},
   "outputs": [
    {
     "name": "stdout",
     "output_type": "stream",
     "text": [
      "🔧 Режим отладки inference...\n",
      "🖥️  Используем устройство: cpu\n",
      "📝 Конфигурация модели:\n",
      "   - Тип модели: resnet\n",
      "   - Глубина: 34\n",
      "   - Классы: 2\n",
      "   - Размер входа: 128x128x128\n",
      "🏗️ Создаем архитектуру модели...\n",
      "📂 Загрузка весов из: model/outputs/weights/best_weights.pth\n",
      "📊 Найдено 200 параметров в checkpoint\n",
      "✅ Веса успешно загружены\n",
      "✅ Модель загружена и готова для предсказаний!\n",
      "🧪 Тест модели прошел успешно. Форма вывода: torch.Size([1, 2])\n",
      "🧪 Пример вывода: [-0.42482904 -8.941753  ]\n",
      "🔍 Входной тензор после валидации: torch.Size([1, 1, 128, 128, 128])\n",
      "🔍 Статистика входного тензора: min=-5.2475, max=5.1081, mean=0.0002\n",
      "🔍 Сырой вывод модели: tensor([[-0.3193, -8.6266]])\n",
      "🔍 Форма вывода: torch.Size([1, 2])\n",
      "🔍 Вероятности после softmax: tensor([[9.9975e-01, 2.4664e-04]])\n",
      "✅ Результат предсказания: {'predicted_class': 0, 'predicted_class_name': 'Здоров', 'confidence': 0.9997532963752747, 'probabilities': [0.9997532963752747, 0.00024664425291121006]}\n"
     ]
    }
   ],
   "source": [
    "!python model/inference.py"
   ]
  },
  {
   "cell_type": "code",
   "execution_count": 17,
   "metadata": {},
   "outputs": [
    {
     "name": "stdout",
     "output_type": "stream",
     "text": [
      "Диагноз: Здоров\n",
      "Уверенность: 100.00%\n"
     ]
    }
   ],
   "source": [
    "result = inference.predict(pneumotorax)\n",
    "\n",
    "print(f\"Диагноз: {result['predicted_class_name']}\")\n",
    "print(f\"Уверенность: {result['confidence']:.2%}\")"
   ]
  },
  {
   "cell_type": "code",
   "execution_count": null,
   "metadata": {},
   "outputs": [],
   "source": [
    "# Тестирование inference\n",
    "python main.py --test-inference\n",
    "\n",
    "# Демонстрация production pipeline  \n",
    "python production_example.py"
   ]
  },
  {
   "cell_type": "markdown",
   "metadata": {},
   "source": [
    "# 5. Выводим слайсы с изображением и маской той области, которая повлияла на предсказание модели\n",
    "( не реализовано )"
   ]
  }
 ],
 "metadata": {
  "kernelspec": {
   "display_name": "myenv",
   "language": "python",
   "name": "python3"
  },
  "language_info": {
   "codemirror_mode": {
    "name": "ipython",
    "version": 3
   },
   "file_extension": ".py",
   "mimetype": "text/x-python",
   "name": "python",
   "nbconvert_exporter": "python",
   "pygments_lexer": "ipython3",
   "version": "3.11.13"
  }
 },
 "nbformat": 4,
 "nbformat_minor": 2
}
