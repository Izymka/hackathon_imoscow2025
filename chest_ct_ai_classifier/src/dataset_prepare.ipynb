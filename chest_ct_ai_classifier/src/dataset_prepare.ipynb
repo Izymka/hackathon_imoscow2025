{
 "cells": [
  {
   "cell_type": "markdown",
   "metadata": {},
   "source": [
    "# Анализ данных"
   ]
  },
  {
   "cell_type": "code",
   "metadata": {},
   "source": [
    "import sys\n",
    "import os\n",
    "import pydicom\n",
    "from pydicom import dcmread\n",
    "import matplotlib.pyplot as plt\n",
    "import math\n",
    "import pandas as pd\n",
    "import numpy as np\n",
    "from ipywidgets import interact, IntSlider\n",
    "import ipywidgets as widgets\n",
    "from typing import Union, Tuple, List, Dict\n",
    "\n",
    "from utils.data_analysis import visualize_dicom \n",
    "from utils.data_analysis import apply_ct_window\n",
    "from utils.data_analysis import print_dicom_rescale_info\n",
    "from utils.data_analysis import get_number_of_frames\n",
    "from utils.data_analysis import analyze_dicom_volume\n",
    "from utils.metadata_extraction import analyze_dicom_series\n",
    "from utils.metadata_extraction import visualize_dicom_geometry"
   ],
   "outputs": [],
   "execution_count": null
  },
  {
   "cell_type": "markdown",
   "metadata": {},
   "source": [
    "# Тестовые данные"
   ]
  },
  {
   "cell_type": "markdown",
   "metadata": {},
   "source": [
    "## Норма"
   ]
  },
  {
   "cell_type": "code",
   "metadata": {},
   "source": [
    "ds = dcmread('../data/raw/norma_anon/norma_anon/10000E6B_anon', force=True)\n",
    "\n",
    "# Выводим информацию\n",
    "print(\"DICOM информация:\")\n",
    "print(f\"Модальность: {ds.Modality}\")\n",
    "print(f\"Размер: {ds.Rows}x{ds.Columns}\")\n",
    "print(f\"Срезы: {getattr(ds, 'NumberOfFrames', 1)}\")\n",
    "\n",
    "# Показываем изображение\n",
    "pixel_data = ds.pixel_array\n",
    "num_frames = getattr(ds, 'NumberOfFrames', 1)\n",
    "\n",
    "if num_frames > 1:\n",
    "    plt.imshow(pixel_data[num_frames//2])\n",
    "else:\n",
    "    plt.imshow(pixel_data)\n",
    "\n",
    "plt.axis('off')\n",
    "plt.show()"
   ],
   "outputs": [],
   "execution_count": null
  },
  {
   "cell_type": "code",
   "metadata": {},
   "source": [
    "# Путь к папке с DICOM файлами\n",
    "folder_path = '../data/raw/norma_anon/norma_anon'\n",
    "dicom_files = [f for f in os.listdir(folder_path) if os.path.isfile(os.path.join(folder_path, f))]\n",
    "dicom_files.sort()\n",
    "\n",
    "print(f\"Найдено {len(dicom_files)} DICOM файлов\")"
   ],
   "outputs": [],
   "execution_count": null
  },
  {
   "cell_type": "code",
   "metadata": {},
   "source": [
    "visualize_dicom(\n",
    "        folder_path,\n",
    "        step=29,\n",
    "        grid_rows=4,\n",
    "        grid_cols=4,\n",
    "        apply_rescaling=True,\n",
    "        apply_windowing=True\n",
    "    )"
   ],
   "outputs": [],
   "execution_count": null
  },
  {
   "cell_type": "markdown",
   "metadata": {},
   "source": [
    "Посчитаем статистику \n",
    "\n",
    "**mean_hu** (средняя плотность тканей в единицах Хаунсфилда (Hounsfield Units/HU))\n",
    "\n",
    "Показывает общую \"среднюю яркость\" исследования\n",
    "\n",
    "**std_hu** (Стандартное отклонение HU):\n",
    "\n",
    "Показывает, насколько разнородна плотность тканей в исследовании\n",
    "\n",
    "Высокое значение означает большую вариабельность плотностей (например, при наличии и воздушных, и плотных участков)\n",
    "\n",
    "Низкое значение означает однородность тканей\n",
    "\n",
    "**pct_low_attenuation** (Процент низкоаттенуированной ткани):\n",
    "\n",
    "Показывает долю ткани с низкой плотностью (ниже определенного порога, обычно -950 HU)\n",
    "\n",
    "Важный показатель при анализе легких, особенно для оценки эмфиземы\n",
    "\n",
    "Чем выше этот процент, тем больше участков с патологически низкой плотностью"
   ]
  },
  {
   "cell_type": "code",
   "metadata": {},
   "source": [
    "# Анализ всего объема \n",
    "mean_hu, std_hu, pct_low, metadata = analyze_dicom_volume(\n",
    "    folder_path, \n",
    "    low_att_threshold=-950,\n",
    "    visualize=True\n",
    ")"
   ],
   "outputs": [],
   "execution_count": null
  },
  {
   "cell_type": "markdown",
   "metadata": {},
   "source": [
    "### Метаданные"
   ]
  },
  {
   "cell_type": "code",
   "metadata": {},
   "source": [
    "# Создаем список для хранения метаданных\n",
    "metadata_list = []\n",
    "\n",
    "# Читаем метаданные из первого файла (они обычно одинаковые для всех срезов)\n",
    "first_file = os.path.join(folder_path, dicom_files[0])\n",
    "ds = dcmread(first_file, force=True)"
   ],
   "outputs": [],
   "execution_count": null
  },
  {
   "cell_type": "code",
   "metadata": {},
   "source": [
    "norma_metadata = analyze_dicom_series(folder_path)\n",
    "norma_metadata"
   ],
   "outputs": [],
   "execution_count": null
  },
  {
   "cell_type": "code",
   "metadata": {},
   "source": [
    "visualize_dicom_geometry(norma_metadata)"
   ],
   "outputs": [],
   "execution_count": null
  },
  {
   "cell_type": "markdown",
   "metadata": {},
   "source": [
    "###  Анализ параметров сканирования КТ норма\n",
    "\n",
    "**Обнаружено:** Реконструкция с перекрытием (overlapping reconstruction) — стандартная практика для улучшения качества 3D-визуализации.\n",
    "\n",
    "---\n",
    "\n",
    "** Расчеты и обоснование:**\n",
    "\n",
    "**Исходные данные:**\n",
    "- Количество срезов: 451\n",
    "- Z-диапазон: 1954.50 - 1594.50 = 360.00 мм\n",
    "- Slice Thickness: 1.0 мм (толщина реконструированного среза)\n",
    "- Spiral Pitch Factor: 1.388\n",
    "\n",
    "**Расчет шага реконструкции:**\n",
    "Δz = Общий диапазон / (N срезов - 1) = 360.00 / 450 = 0.80 мм\n",
    "\n",
    "**Расчет коэффициента перекрытия:**\n",
    "Overlap = 1 - (Шаг / Толщина) = 1 - (0.8 / 1.0) = 0.2 (20%)\n",
    "\n",
    "\n",
    "**📊 Технические параметры:**\n",
    "- **Data Collection Diameter:** 500.00 мм (физический сбор данных)\n",
    "- **Reconstruction Diameter:** 400.39 мм (поле реконструкции)\n",
    "- **Покрытие за оборот:** Pitch × Коллимация = 1.388 × (N×1.0 мм)\n",
    "\n",
    "**✅ Вывод:** Система работает в штатном режиме. Перекрытие в 20% улучшает качество 3D-реконструкций и повышает точность диагностики за счет исключения \"ступенчатости\" и улучшения видимости мелких образований на нескольких соседних срезах.\n",
    "Таким образом реальный размер вокселя: 0.782×0.782×0.8 мм"
   ]
  },
  {
   "cell_type": "markdown",
   "metadata": {},
   "source": [
    "## Пневмония"
   ]
  },
  {
   "cell_type": "code",
   "metadata": {},
   "source": [
    "# Путь к папке с DICOM файлами\n",
    "folder_path = '../data/raw/pneumonia_anon/pneumonia_anon'\n",
    "dicom_files = [f for f in os.listdir(folder_path) if os.path.isfile(os.path.join(folder_path, f))]\n",
    "dicom_files.sort()\n",
    "\n",
    "print(f\"Найдено {len(dicom_files)} DICOM файлов\")"
   ],
   "outputs": [],
   "execution_count": null
  },
  {
   "cell_type": "code",
   "metadata": {},
   "source": [
    "visualize_dicom(\n",
    "        folder_path,\n",
    "        step=23,\n",
    "        grid_rows=4,\n",
    "        grid_cols=4,\n",
    "        apply_rescaling=True,\n",
    "        apply_windowing=True\n",
    "    )"
   ],
   "outputs": [],
   "execution_count": null
  },
  {
   "cell_type": "code",
   "metadata": {},
   "source": [
    "# Анализ всего объема \n",
    "mean_hu, std_hu, pct_low, metadata = analyze_dicom_volume(\n",
    "    folder_path, \n",
    "    low_att_threshold=-950,\n",
    "    visualize=True\n",
    ")"
   ],
   "outputs": [],
   "execution_count": null
  },
  {
   "cell_type": "code",
   "metadata": {},
   "source": [
    "# Создаем список для хранения метаданных\n",
    "metadata_list = []\n",
    "\n",
    "# Читаем метаданные из первого файла (они обычно одинаковые для всех срезов)\n",
    "first_file = os.path.join(folder_path, dicom_files[0])\n",
    "ds = dcmread(first_file, force=True)\n",
    "#ds"
   ],
   "outputs": [],
   "execution_count": null
  },
  {
   "cell_type": "code",
   "metadata": {},
   "source": [
    "pnevma_metadata = analyze_dicom_series(folder_path)\n",
    "pnevma_metadata"
   ],
   "outputs": [],
   "execution_count": null
  },
  {
   "cell_type": "code",
   "metadata": {},
   "source": [
    "visualize_dicom_geometry(pnevma_metadata)"
   ],
   "outputs": [],
   "execution_count": null
  },
  {
   "cell_type": "markdown",
   "metadata": {},
   "source": [
    "## Пневмоторекс"
   ]
  },
  {
   "cell_type": "code",
   "metadata": {},
   "source": [
    "# Путь к папке с DICOM файлами\n",
    "folder_path = '../data/raw/pneumotorax_anon/pneumotorax_anon'\n",
    "dicom_files = [f for f in os.listdir(folder_path) if os.path.isfile(os.path.join(folder_path, f))]\n",
    "dicom_files.sort()\n",
    "\n",
    "print(f\"Найдено {len(dicom_files)} DICOM файлов\")"
   ],
   "outputs": [],
   "execution_count": null
  },
  {
   "cell_type": "code",
   "metadata": {},
   "source": [
    "file_path = \"../data/raw/pneumotorax_anon/pneumotorax_anon/10000CF6_anon\"\n",
    "frames = get_number_of_frames(file_path)\n",
    "print(f\"Файл содержит {frames} фреймов.\")"
   ],
   "outputs": [],
   "execution_count": null
  },
  {
   "cell_type": "code",
   "metadata": {},
   "source": [
    "print_dicom_rescale_info(folder_path)"
   ],
   "outputs": [],
   "execution_count": null
  },
  {
   "cell_type": "code",
   "metadata": {},
   "source": [
    "visualize_dicom(\n",
    "        file_path,\n",
    "        step=29,\n",
    "        grid_rows=4,\n",
    "        grid_cols=4,\n",
    "        apply_rescaling=True,\n",
    "        apply_windowing=True,\n",
    "        start_frame=1,\n",
    "        max_frames=464\n",
    "    )"
   ],
   "outputs": [],
   "execution_count": null
  },
  {
   "cell_type": "code",
   "metadata": {},
   "source": [
    "# Анализ всего объема \n",
    "mean_hu, std_hu, pct_low, metadata = analyze_dicom_volume(\n",
    "    file_path, \n",
    "    low_att_threshold=-950,\n",
    "    visualize=True\n",
    ")"
   ],
   "outputs": [],
   "execution_count": null
  },
  {
   "cell_type": "code",
   "metadata": {},
   "source": [
    "# Создаем список для хранения метаданных\n",
    "metadata_list = []\n",
    "\n",
    "# Читаем метаданные из первого файла (они обычно одинаковые для всех срезов)\n",
    "first_file = os.path.join(folder_path, dicom_files[0])\n",
    "ds = dcmread(first_file, force=True)"
   ],
   "outputs": [],
   "execution_count": null
  },
  {
   "cell_type": "code",
   "metadata": {},
   "source": [
    "ds"
   ],
   "outputs": [],
   "execution_count": null
  },
  {
   "cell_type": "code",
   "metadata": {},
   "source": [
    "pnevmotorex_metadata = analyze_dicom_series(folder_path)\n",
    "pnevmotorex_metadata"
   ],
   "outputs": [],
   "execution_count": null
  },
  {
   "cell_type": "markdown",
   "metadata": {},
   "source": [
    "## Сравнение параметров КТ-снимков: Норма vs Пневмония vs Пневмоторакс\n",
    "\n",
    "| Параметр                  | Случай 1 (Норма)      | Случай 2 (Пневмония)   | Случай 3 (Пневмоторакс) | Комментарий |\n",
    "|---------------------------|------------------------|-------------------------|--------------------------|-------------|\n",
    "| **Производитель сканера** | TOSHIBA                | Siemens                 | TOSHIBA Aquilion         | разные алгоритмы реконструкции и шумовые характеристики |\n",
    "| **Напряжение (кВ)**       | 120                    | 100                     | 120                      | влияет на контрастность тканей и проникающую способность излучения; **требуется восстановление или оценка по протоколу** |\n",
    "| **Ток (мА) / Экспозиция** | 80 мА / 40 мАс         | 673 мА / 148 мАс        | 116/58                     | сильно влияет на уровень шума и качество изображения; **данные отсутствуют — может потребоваться аппроксимация** |\n",
    "| **Доза (мГр)**            | 2.6                    | 8.07                    | 27.5                      | прямо влияет на соотношение сигнал/шум (SNR); **необходимо дополнить из протокола, если доступно** |\n",
    "| **Размер пикселя (мм)**   | 0.782                  | 0.752                   | 0.782      | **требуется ресемплинг к единому разрешению для обучения модели**; предположительно ~1.0 мм/пиксель |\n",
    "| **Интерцепт пересчёта**   | 0                      | -8192                   | 0                        | **определяет абсолютные значения HU; без коррекции модель увидит разные \"единицы измерения\"** |\n",
    "| **Представление пикселей**| Со знаком              | Без знака               | Со знаком                | **влияет на диапазон значений и интерпретацию HU; требует нормализации** |\n",
    "\n"
   ]
  },
  {
   "cell_type": "markdown",
   "metadata": {},
   "source": [
    "# Подбор окон"
   ]
  },
  {
   "cell_type": "markdown",
   "metadata": {},
   "source": [
    "Шкала Хаунсфилда (HU) — это количественная шкала рентгеновской плотности, используемая в компьютерной томографии. За основу приняты:\n",
    "- **Вода = 0 HU**\n",
    "- **Воздух = -1000 HU**\n",
    "\n",
    "**Основные ткани и материалы**\n",
    "\n",
    "| Ткань / Материал         | HU Значения              |\n",
    "|--------------------------|--------------------------|\n",
    "| Воздух                   | -1000 HU                 |\n",
    "| Жир                      | -120 to -90 HU           |\n",
    "| Вода                     | 0 HU                     |\n",
    "| Мягкие ткани             | 20–50 HU                 |\n",
    "| Кровь                    | 30–45 HU                 |\n",
    "| Мышцы                    | 35–55 HU                 |\n",
    "| Печень                   | 40–60 HU                 |\n",
    "| Кости                    | 300–1000+ HU             |\n",
    "\n",
    "\n",
    "**Дополнительные материалы и состояния**\n",
    "\n",
    "| Ткань / Материал         | HU Значения              |\n",
    "|--------------------------|--------------------------|\n",
    "| Лёгкие (инспирация)      | -800 to -600 HU          |\n",
    "| Лёгкие (экспирация)      | -500 to -200 HU          |\n",
    "| Контрастное вещество     | 100–3000 HU              |\n",
    "| Кальцинаты               | 150–2000 HU              |\n",
    "| Зубная эмаль             | 2000–3000 HU             |\n",
    "\n",
    "\n",
    "**Клиническое значение HU**\n",
    "\n",
    "- **Отрицательные значения**:  \n",
    "  ➤ Воздух, жир, лёгочная ткань.\n",
    "\n",
    "- **Около 0 HU**:  \n",
    "  ➤ Вода, спинномозговая жидкость (CSF).\n",
    "\n",
    "- **Положительные значения (умеренные)**:  \n",
    "  ➤ Мягкие ткани, внутренние органы (печень, селезёнка, почки, мышцы).\n",
    "\n",
    "- **Высокие положительные значения**:  \n",
    "  ➤ Кости, кальцификаты, металлы, контрастные агенты.\n"
   ]
  },
  {
   "cell_type": "code",
   "metadata": {},
   "source": [
    "# Загружаем DICOM файл\n",
    "file_path = '../data/raw/pneumonia_anon/pneumonia_anon/100003A0_anon'\n",
    "#file_path = '../data/raw/norma_anon/norma_anon/10000E6B_anon'\n",
    "ds = dcmread(file_path, force=True)\n",
    "\n",
    "# Получаем изображение в HU (pixel_array уже в HU для CT)\n",
    "ct_image = ds.pixel_array.astype(np.float32)\n",
    "\n",
    "# Проверяем наличие Rescale Slope/Intercept в метаданных\n",
    "rescale_slope = getattr(ds, 'RescaleSlope', 1.0)\n",
    "rescale_intercept = getattr(ds, 'RescaleIntercept', 0.0)\n",
    "\n",
    "# Если нужно преобразовать в HU \n",
    "if rescale_slope != 1.0 or rescale_intercept != 0.0:\n",
    "    ct_image = ct_image * rescale_slope + rescale_intercept\n",
    "\n",
    "print(f\"Rescale Slope: {rescale_slope}, Intercept: {rescale_intercept}\")\n",
    "print(f\"Диапазон HU значений: {ct_image.min():.1f} - {ct_image.max():.1f}\")\n",
    "\n",
    "optimal_windows = {\n",
    "    'Легкие (детализация)': (-600, 1500),\n",
    "    'Медиастинум (органы)': (40, 400),\n",
    "    'Кости (ребра, позвоночник)': (400, 1500) # \n",
    "}\n",
    "\n",
    "fig, axes = plt.subplots(1, 3, figsize=(15, 5))\n",
    "\n",
    "for (ax, (window_name, (center, width))) in zip(axes, optimal_windows.items()):\n",
    "    windowed_image = apply_ct_window(ct_image, center, width)\n",
    "    ax.imshow(windowed_image)\n",
    "    ax.set_title(f'{window_name}\\nC:{center}, W:{width}')\n",
    "    ax.axis('off')\n",
    "\n",
    "plt.tight_layout()\n",
    "plt.show()"
   ],
   "outputs": [],
   "execution_count": null
  },
  {
   "cell_type": "code",
   "metadata": {},
   "source": [
    "def interactive_ct_window(window_center=40, window_width=400):\n",
    "    \"\"\"Интерактивная настройка окна\"\"\"\n",
    "    windowed_image = apply_ct_window(ct_image, window_center, window_width)\n",
    "    \n",
    "    plt.figure(figsize=(10, 8))\n",
    "    plt.imshow(windowed_image, cmap='gray')\n",
    "    plt.title(f'CT Window: Center={window_center}, Width={window_width}')\n",
    "    plt.axis('off')\n",
    "    plt.show()\n",
    "    \n",
    "    # Показываем гистограмму HU значений\n",
    "    plt.figure(figsize=(10, 3))\n",
    "    plt.hist(ct_image.flatten(), bins=200, range=(-1000, 1000), alpha=0.7)\n",
    "    plt.axvline(window_center - window_width/2, color='r', linestyle='--', label='Window Min')\n",
    "    plt.axvline(window_center + window_width/2, color='r', linestyle='--', label='Window Max')\n",
    "    plt.axvline(window_center, color='g', linestyle='-', label='Center')\n",
    "    plt.xlabel('HU Values')\n",
    "    plt.ylabel('Frequency')\n",
    "    plt.legend()\n",
    "    plt.title('Histogram of HU Values with Current Window')\n",
    "    plt.show()\n"
   ],
   "outputs": [],
   "execution_count": null
  },
  {
   "cell_type": "code",
   "metadata": {},
   "source": [
    "# Создаем интерактивные ползунки\n",
    "interact(interactive_ct_window,\n",
    "         window_center=IntSlider(value=40, min=-1000, max=1000, step=10, description='Center'),\n",
    "         window_width=IntSlider(value=400, min=50, max=2000, step=50, description='Width'))"
   ],
   "outputs": [],
   "execution_count": null
  },
  {
   "cell_type": "markdown",
   "metadata": {},
   "source": [
    " **Настройки окон для КТ:**\n",
    "- **Лёгочные окна**: Центр `-600`, Ширина `1500`\n",
    "- **Мягкотканые окна**: Центр `40`, Ширина `400`\n",
    "- **Костные окна**: Центр `400`, Ширина `1500`"
   ]
  },
  {
   "cell_type": "markdown",
   "metadata": {},
   "source": [
    "# Обучающий датасет"
   ]
  },
  {
   "cell_type": "code",
   "metadata": {},
   "source": [
    "# Базовый путь к сетевому хранилищу\n",
    "base_path = \"/Volumes/DS/DataSets/MosMed/ds_cancer_1/MosMedData-LDCT-LUNGCR-type I-v 1/\"\n",
    "\n",
    "# Полные пути к файлам\n",
    "excel_path = os.path.join(base_path, 'dataset_registry.xlsx')\n",
    "studies_dir = os.path.join(base_path, 'studies')"
   ],
   "outputs": [],
   "execution_count": null
  },
  {
   "cell_type": "markdown",
   "metadata": {},
   "source": [
    "## Датасет 1 MosMedData НДКТ с признаками рака легкого тип I"
   ]
  },
  {
   "cell_type": "markdown",
   "metadata": {},
   "source": [
    "MosMedData НДКТ с признаками рака легкого тип I (https://mosmed.ai/datasets/datasets/mm/)\n",
    "\n",
    "Есть отклонение по оси z"
   ]
  },
  {
   "cell_type": "code",
   "metadata": {},
   "source": [
    "base_path = '../data/external/dataset_1/'"
   ],
   "outputs": [],
   "execution_count": null
  },
  {
   "cell_type": "code",
   "metadata": {},
   "source": [
    "target_path = os.path.join(base_path, 'dataset_registry.xlsx') \n",
    "target = pd.read_excel(target_path)"
   ],
   "outputs": [],
   "execution_count": null
  },
  {
   "cell_type": "code",
   "metadata": {},
   "source": [
    "pd.set_option('display.max_colwidth', None)\n",
    "target.head()"
   ],
   "outputs": [],
   "execution_count": null
  },
  {
   "cell_type": "code",
   "metadata": {},
   "source": [
    "target.loc[target['study_instance_anon'] == '1.2.643.5.1.13.13.12.2.77.8252.05031412000213100215131209081403']"
   ],
   "outputs": [],
   "execution_count": null
  },
  {
   "cell_type": "markdown",
   "metadata": {},
   "source": [
    "### С патологией"
   ]
  },
  {
   "cell_type": "code",
   "metadata": {},
   "source": [
    "# Путь к папке с DICOM файлами\n",
    "folder_path = os.path.join(base_path, '1.2.643.5.1.13.13.12.2.77.8252.02000015141207091410081401020409/1.2.643.5.1.13.13.12.2.77.8252.09041515140805110209100012140804') \n",
    "dicom_files = [f for f in os.listdir(folder_path) if os.path.isfile(os.path.join(folder_path, f))]\n",
    "dicom_files.sort()\n",
    "\n",
    "print(f\"Найдено {len(dicom_files)} DICOM файлов\")\n",
    "\n",
    "visualize_dicom(\n",
    "        folder_path,\n",
    "        step=25,\n",
    "        grid_rows=4,\n",
    "        grid_cols=4,\n",
    "        apply_rescaling=True,\n",
    "        apply_windowing=True\n",
    "    )\n",
    "\n",
    "# Анализ всего объема \n",
    "mean_hu, std_hu, pct_low, metadata = analyze_dicom_volume(\n",
    "    folder_path, \n",
    "    low_att_threshold=-950,\n",
    "    visualize=True\n",
    ")\n",
    "\n",
    "# Создаем список для хранения метаданных\n",
    "metadata_list = []\n",
    "\n",
    "# Читаем метаданные из первого файла (они обычно одинаковые для всех срезов)\n",
    "first_file = os.path.join(folder_path, dicom_files[0])\n",
    "ds = dcmread(first_file, force=True)\n",
    "\n",
    "# Создаем список для хранения метаданных\n",
    "metadata_list = []\n",
    "\n",
    "# Читаем метаданные из первого файла (они обычно одинаковые для всех срезов)\n",
    "first_file = os.path.join(folder_path, dicom_files[0])\n",
    "ds = dcmread(first_file, force=True)\n",
    "norma_metadata = analyze_dicom_series(folder_path)\n",
    "norma_metadata"
   ],
   "outputs": [],
   "execution_count": null
  },
  {
   "cell_type": "code",
   "metadata": {},
   "source": [
    "visualize_dicom_geometry(norma_metadata)"
   ],
   "outputs": [],
   "execution_count": null
  },
  {
   "cell_type": "markdown",
   "metadata": {},
   "source": [
    "### Без патологии"
   ]
  },
  {
   "cell_type": "markdown",
   "metadata": {},
   "source": [
    "В папке с исследованием 2-е папки. В одной со срезом 1мм, в другой 5мм. Интересно оставить более детальные срезы."
   ]
  },
  {
   "cell_type": "code",
   "metadata": {},
   "source": [
    "# Путь к папке с DICOM файлами\n",
    "folder_path = os.path.join(base_path, '1.2.643.5.1.13.13.12.2.77.8252.01131513100502150809051405021408/1.2.643.5.1.13.13.12.2.77.8252.05111114100400101509070109080513') \n",
    "dicom_files = [f for f in os.listdir(folder_path) if os.path.isfile(os.path.join(folder_path, f))]\n",
    "dicom_files.sort()\n",
    "\n",
    "print(f\"Найдено {len(dicom_files)} DICOM файлов\")"
   ],
   "outputs": [],
   "execution_count": null
  },
  {
   "cell_type": "code",
   "metadata": {},
   "source": [
    "visualize_dicom(\n",
    "        folder_path,\n",
    "        step=55,\n",
    "        grid_rows=4,\n",
    "        grid_cols=4,\n",
    "        apply_rescaling=True,\n",
    "        apply_windowing=True\n",
    "    )"
   ],
   "outputs": [],
   "execution_count": null
  },
  {
   "cell_type": "code",
   "metadata": {},
   "source": [
    "# Анализ всего объема \n",
    "mean_hu, std_hu, pct_low, metadata = analyze_dicom_volume(\n",
    "    folder_path, \n",
    "    low_att_threshold=-950,\n",
    "    visualize=True\n",
    ")\n",
    "\n"
   ],
   "outputs": [],
   "execution_count": null
  },
  {
   "cell_type": "code",
   "metadata": {},
   "source": [
    "# Создаем список для хранения метаданных\n",
    "metadata_list = []\n",
    "\n",
    "# Читаем метаданные из первого файла (они обычно одинаковые для всех срезов)\n",
    "first_file = os.path.join(folder_path, dicom_files[0])\n",
    "ds = dcmread(first_file, force=True)\n"
   ],
   "outputs": [],
   "execution_count": null
  },
  {
   "cell_type": "code",
   "metadata": {},
   "source": [
    "norma_metadata = analyze_dicom_series(folder_path)\n",
    "norma_metadata"
   ],
   "outputs": [],
   "execution_count": null
  },
  {
   "cell_type": "code",
   "metadata": {},
   "source": [
    "interact(interactive_ct_window,\n",
    "         window_center=IntSlider(value=40, min=-1000, max=1000, step=10, description='Center'),\n",
    "         window_width=IntSlider(value=400, min=50, max=2000, step=50, description='Width'))"
   ],
   "outputs": [],
   "execution_count": null
  },
  {
   "cell_type": "code",
   "metadata": {},
   "source": [
    "visualize_dicom_geometry(norma_metadata)"
   ],
   "outputs": [],
   "execution_count": null
  },
  {
   "cell_type": "markdown",
   "metadata": {},
   "source": [
    "# Датасет 2 CT_LUNGCANCER_500"
   ]
  },
  {
   "cell_type": "code",
   "metadata": {},
   "source": [
    "base_path = '../data/external/dataset_2/'\n",
    "target_path = os.path.join(base_path, 'dataset_registry.csv') \n",
    "target = pd.read_csv(target_path)\n",
    "pd.set_option('display.max_colwidth', None)\n",
    "target.head()"
   ],
   "outputs": [],
   "execution_count": null
  },
  {
   "cell_type": "markdown",
   "metadata": {},
   "source": [
    "Несколько врачебных мнений. Большое доверие. Выделяем норму - кадры по которым все мнения врачей единогласно нет. \n",
    "Важно выделить в не норму те исследования, где мнения расходятся и врач выделяет аномалии. \n",
    "\n",
    "Разметка в json\n",
    "Список файлов в cvs"
   ]
  },
  {
   "cell_type": "markdown",
   "metadata": {},
   "source": [
    "## Без патологии"
   ]
  },
  {
   "cell_type": "code",
   "metadata": {},
   "source": [
    "# Путь к папке с DICOM файлами\n",
    "folder_path = os.path.join(base_path, 'RLAD42D007-22426_RLS6A01002SVR_2418816') \n",
    "dicom_files = [f for f in os.listdir(folder_path) if os.path.isfile(os.path.join(folder_path, f))]\n",
    "dicom_files.sort()\n",
    "\n",
    "print(f\"Найдено {len(dicom_files)} DICOM файлов\")\n",
    "\n",
    "visualize_dicom(\n",
    "        folder_path,\n",
    "        step=75,\n",
    "        grid_rows=4,\n",
    "        grid_cols=4,\n",
    "        apply_rescaling=True,\n",
    "        apply_windowing=True\n",
    "    )\n",
    "\n",
    "# Анализ всего объема \n",
    "mean_hu, std_hu, pct_low, metadata = analyze_dicom_volume(\n",
    "    folder_path, \n",
    "    low_att_threshold=-950,\n",
    "    visualize=True\n",
    ")\n",
    "\n",
    "# Создаем список для хранения метаданных\n",
    "metadata_list = []\n",
    "\n",
    "# Читаем метаданные из первого файла (они обычно одинаковые для всех срезов)\n",
    "first_file = os.path.join(folder_path, dicom_files[0])\n",
    "ds = dcmread(first_file, force=True)\n",
    "\n",
    "# Создаем список для хранения метаданных\n",
    "metadata_list = []\n",
    "\n",
    "# Читаем метаданные из первого файла (они обычно одинаковые для всех срезов)\n",
    "first_file = os.path.join(folder_path, dicom_files[0])\n",
    "ds = dcmread(first_file, force=True)\n",
    "norma_metadata = analyze_dicom_series(folder_path)\n",
    "norma_metadata"
   ],
   "outputs": [],
   "execution_count": null
  },
  {
   "cell_type": "code",
   "metadata": {},
   "source": [
    "visualize_dicom_geometry(norma_metadata)"
   ],
   "outputs": [],
   "execution_count": null
  },
  {
   "cell_type": "markdown",
   "metadata": {},
   "source": [
    "## Только патология\n"
   ]
  },
  {
   "cell_type": "code",
   "metadata": {},
   "source": [
    "# Путь к папке с DICOM файлами\n",
    "folder_path = os.path.join(base_path, 'RLAD42D007-23196_RLS6A01002SVR_259658') \n",
    "dicom_files = [f for f in os.listdir(folder_path) if os.path.isfile(os.path.join(folder_path, f))]\n",
    "dicom_files.sort()\n",
    "\n",
    "print(f\"Найдено {len(dicom_files)} DICOM файлов\")\n",
    "\n",
    "visualize_dicom(\n",
    "        folder_path,\n",
    "        step=25,\n",
    "        grid_rows=4,\n",
    "        grid_cols=4,\n",
    "        apply_rescaling=True,\n",
    "        apply_windowing=True\n",
    "    )\n",
    "\n",
    "# Анализ всего объема \n",
    "mean_hu, std_hu, pct_low, metadata = analyze_dicom_volume(\n",
    "    folder_path, \n",
    "    low_att_threshold=-950,\n",
    "    visualize=True\n",
    ")\n",
    "\n",
    "# Создаем список для хранения метаданных\n",
    "metadata_list = []\n",
    "\n",
    "# Читаем метаданные из первого файла (они обычно одинаковые для всех срезов)\n",
    "first_file = os.path.join(folder_path, dicom_files[0])\n",
    "ds = dcmread(first_file, force=True)\n",
    "\n",
    "# Создаем список для хранения метаданных\n",
    "metadata_list = []\n",
    "\n",
    "# Читаем метаданные из первого файла (они обычно одинаковые для всех срезов)\n",
    "first_file = os.path.join(folder_path, dicom_files[0])\n",
    "ds = dcmread(first_file, force=True)\n",
    "norma_metadata = analyze_dicom_series(folder_path)\n",
    "norma_metadata"
   ],
   "outputs": [],
   "execution_count": null
  },
  {
   "cell_type": "code",
   "metadata": {},
   "source": [
    "visualize_dicom_geometry(norma_metadata)"
   ],
   "outputs": [],
   "execution_count": null
  },
  {
   "cell_type": "markdown",
   "metadata": {},
   "source": [
    "# Датасет 3 MosMedData КТ с признаками коронавирусной инфекции (COVID-19) тип I\n"
   ]
  },
  {
   "cell_type": "markdown",
   "metadata": {},
   "source": [
    "В некоторых папках (у некоторых пациентов) есть несколько исследований. Вторе, где меньшее число файлов - это ренген."
   ]
  },
  {
   "cell_type": "code",
   "metadata": {},
   "source": [
    "base_path = '../data/external/dataset_3/'\n",
    "target_path = os.path.join(base_path, 'dataset_registry.xlsx') \n",
    "target = pd.read_excel(target_path, index_col=None)\n",
    "target = target.drop(columns='Unnamed: 0')\n",
    "pd.set_option('display.max_colwidth', None)\n",
    "target.head()"
   ],
   "outputs": [],
   "execution_count": null
  },
  {
   "cell_type": "code",
   "metadata": {},
   "source": [
    "target.loc[target['pathology'] == 0].count()"
   ],
   "outputs": [],
   "execution_count": null
  },
  {
   "cell_type": "code",
   "metadata": {},
   "source": [
    "target.loc[target['study_instance_anon']=='1.2.643.5.1.13.13.12.2.77.8252.11020915000408000111031313111206']"
   ],
   "outputs": [],
   "execution_count": null
  },
  {
   "cell_type": "markdown",
   "metadata": {},
   "source": [
    "## С патологией"
   ]
  },
  {
   "cell_type": "code",
   "metadata": {},
   "source": [
    "# Путь к папке с DICOM файлами\n",
    "folder_path = os.path.join(base_path, '1.2.643.5.1.13.13.12.2.77.8252.03000205120511100413101200090913/1.2.643.5.1.13.13.12.2.77.8252.12060113080214100305091010000715') \n",
    "dicom_files = [f for f in os.listdir(folder_path) if os.path.isfile(os.path.join(folder_path, f))]\n",
    "dicom_files.sort()\n",
    "\n",
    "print(f\"Найдено {len(dicom_files)} DICOM файлов\")\n",
    "\n",
    "visualize_dicom(\n",
    "        folder_path,\n",
    "        step=75,\n",
    "        grid_rows=4,\n",
    "        grid_cols=4,\n",
    "        apply_rescaling=True,\n",
    "        apply_windowing=True\n",
    "    )\n",
    "\n",
    "# Анализ всего объема \n",
    "mean_hu, std_hu, pct_low, metadata = analyze_dicom_volume(\n",
    "    folder_path, \n",
    "    low_att_threshold=-950,\n",
    "    visualize=True\n",
    ")\n",
    "\n",
    "# Создаем список для хранения метаданных\n",
    "metadata_list = []\n",
    "\n",
    "# Читаем метаданные из первого файла (они обычно одинаковые для всех срезов)\n",
    "first_file = os.path.join(folder_path, dicom_files[0])\n",
    "ds = dcmread(first_file, force=True)\n",
    "\n",
    "# Создаем список для хранения метаданных\n",
    "metadata_list = []\n",
    "\n",
    "# Читаем метаданные из первого файла (они обычно одинаковые для всех срезов)\n",
    "first_file = os.path.join(folder_path, dicom_files[0])\n",
    "ds = dcmread(first_file, force=True)\n",
    "norma_metadata = analyze_dicom_series(folder_path)\n",
    "norma_metadata"
   ],
   "outputs": [],
   "execution_count": null
  },
  {
   "cell_type": "code",
   "metadata": {},
   "source": [
    "visualize_dicom_geometry(norma_metadata)"
   ],
   "outputs": [],
   "execution_count": null
  },
  {
   "cell_type": "markdown",
   "metadata": {},
   "source": [
    "# Датасет 4 MosMedData КТ с признаками коронавирусной инфекции (COVID-19) тип I"
   ]
  },
  {
   "cell_type": "code",
   "metadata": {},
   "source": [
    "base_path = '../data/external/dataset_4/'\n",
    "target_path = os.path.join(base_path, 'dataset_registry.xlsx') \n",
    "target = pd.read_excel(target_path, index_col=None)\n",
    "target = target.drop(columns='Unnamed: 0')\n",
    "pd.set_option('display.max_colwidth', None)\n",
    "target.head()"
   ],
   "outputs": [],
   "execution_count": null
  },
  {
   "cell_type": "code",
   "metadata": {},
   "source": [
    "target.loc[target['study_instance_anon']=='1.2.643.5.1.13.13.12.2.77.8252.11070002040215140414030109070413']"
   ],
   "outputs": [],
   "execution_count": null
  },
  {
   "cell_type": "markdown",
   "metadata": {},
   "source": [
    "## С патологией"
   ]
  },
  {
   "cell_type": "markdown",
   "metadata": {},
   "source": [
    "## Без патологии"
   ]
  },
  {
   "cell_type": "code",
   "metadata": {},
   "source": [
    "# Путь к папке с DICOM файлами\n",
    "folder_path = os.path.join(base_path, '1.2.643.5.1.13.13.12.2.77.8252.11070002040215140414030109070413/1.2.643.5.1.13.13.12.2.77.8252.10110005120514120508130113070906') \n",
    "dicom_files = [f for f in os.listdir(folder_path) if os.path.isfile(os.path.join(folder_path, f))]\n",
    "dicom_files.sort()\n",
    "\n",
    "print(f\"Найдено {len(dicom_files)} DICOM файлов\")\n",
    "\n",
    "visualize_dicom(\n",
    "        folder_path,\n",
    "        step=75,\n",
    "        grid_rows=4,\n",
    "        grid_cols=4,\n",
    "        apply_rescaling=True,\n",
    "        apply_windowing=True\n",
    "    )\n",
    "\n",
    "# Анализ всего объема \n",
    "mean_hu, std_hu, pct_low, metadata = analyze_dicom_volume(\n",
    "    folder_path, \n",
    "    low_att_threshold=-950,\n",
    "    visualize=True\n",
    ")\n",
    "\n",
    "# Создаем список для хранения метаданных\n",
    "metadata_list = []\n",
    "\n",
    "# Читаем метаданные из первого файла (они обычно одинаковые для всех срезов)\n",
    "first_file = os.path.join(folder_path, dicom_files[0])\n",
    "ds = dcmread(first_file, force=True)\n",
    "\n",
    "# Создаем список для хранения метаданных\n",
    "metadata_list = []\n",
    "\n",
    "# Читаем метаданные из первого файла (они обычно одинаковые для всех срезов)\n",
    "first_file = os.path.join(folder_path, dicom_files[0])\n",
    "ds = dcmread(first_file, force=True)\n",
    "norma_metadata = analyze_dicom_series(folder_path)\n",
    "norma_metadata"
   ],
   "outputs": [],
   "execution_count": null
  },
  {
   "cell_type": "code",
   "metadata": {},
   "source": [
    "visualize_dicom_geometry(norma_metadata)"
   ],
   "outputs": [],
   "execution_count": null
  },
  {
   "cell_type": "markdown",
   "metadata": {},
   "source": [
    "# Метаданные, для обучения"
   ]
  },
  {
   "cell_type": "markdown",
   "metadata": {},
   "source": [
    "Среднее hu hu_volume = pixel_data * slope + intercept из файла data_analysis\n",
    "\n",
    "pct_low_attenuation = (low_att_voxels / total_voxels) * 100\n",
    "\n",
    "low_att_volume_cm3 = low_att_voxels * voxel_volume_mm3 / 1000  # в см³"
   ]
  },
  {
   "cell_type": "code",
   "metadata": {},
   "source": [
    "data = {\n",
    "    'study_name': ['01', '02', '03', '04', '05', '06'],\n",
    "    'target': [0, 0, 0, 1, 1, 1]\n",
    "}\n",
    "\n",
    "df = pd.DataFrame(data)\n",
    "\n",
    "# Указываем путь для сохранения (измени на свой!)\n",
    "output_path = \"../data/processed/train/target.csv\"  \n",
    "\n",
    "# Сохраняем в CSV\n",
    "df.to_csv(output_path, index=False)  \n",
    "\n",
    "print(f\"Датасет успешно сохранён по пути: {output_path}\")"
   ],
   "outputs": [],
   "execution_count": null
  },
  {
   "cell_type": "code",
   "metadata": {},
   "source": [
    "ds_2 = pd.read_csv('../reports/pathology_results.csv')\n",
    "ds_2.head()"
   ],
   "outputs": [],
   "execution_count": null
  },
  {
   "cell_type": "code",
   "metadata": {},
   "source": [
    "ds_2.loc[ds_2['patology']==0].count()"
   ],
   "outputs": [],
   "execution_count": null
  }
 ],
 "metadata": {
  "kernelspec": {
   "display_name": "myenv",
   "language": "python",
   "name": "python3"
  },
  "language_info": {
   "codemirror_mode": {
    "name": "ipython",
    "version": 3
   },
   "file_extension": ".py",
   "mimetype": "text/x-python",
   "name": "python",
   "nbconvert_exporter": "python",
   "pygments_lexer": "ipython3",
   "version": "3.11.13"
  }
 },
 "nbformat": 4,
 "nbformat_minor": 2
}
